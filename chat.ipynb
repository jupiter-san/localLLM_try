{
 "cells": [
  {
   "cell_type": "code",
   "execution_count": null,
   "id": "f1f607f6",
   "metadata": {},
   "outputs": [],
   "source": [
    "from langchain_community.chat_models import ChatOllama\n",
    "from langchain_core.output_parsers import StrOutputParser\n",
    "from langchain_core.prompts import ChatPromptTemplate\n",
    "\n",
    "template = \"\"\"\n",
    "あなたは大喜利をすることになりました。以下のお題に対して面白い回答を考えてください。\n",
    "お題: {お題}\n",
    "\"\"\"\n",
    "\n",
    "prompt = ChatPromptTemplate.from_template(template)\n",
    "\n",
    "llm = ChatOllama(model=\"gemma3:latest\") # 変更\n",
    "\n",
    "chain = prompt | llm | StrOutputParser()\n",
    "\n",
    "print(chain.invoke({\"お題\": \"モスバーガーがスマイル0円に対抗する新たなキャッチフレーズを打ち出しました。どんなキャッチフレーズ？\"}))"
   ]
  }
 ],
 "metadata": {
  "kernelspec": {
   "display_name": "py311",
   "language": "python",
   "name": "python3"
  },
  "language_info": {
   "name": "python",
   "version": "3.11.0"
  }
 },
 "nbformat": 4,
 "nbformat_minor": 5
}
